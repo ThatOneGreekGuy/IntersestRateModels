{
 "cells": [
  {
   "cell_type": "markdown",
   "id": "8f5f6f0d-a85d-4aef-af2c-013e2c604f9b",
   "metadata": {},
   "source": [
    "# Ho and Lee"
   ]
  },
  {
   "cell_type": "code",
   "execution_count": 28,
   "id": "778b5607-6df4-4140-a841-5ac9ab0f12da",
   "metadata": {
    "tags": []
   },
   "outputs": [],
   "source": [
    "import numpy as np\n",
    "import pandas as pd\n",
    "from scipy.stats import norm\n",
    "from datetime import datetime, date, time, timedelta"
   ]
  },
  {
   "cell_type": "code",
   "execution_count": 29,
   "id": "b1eb48e3-8e29-4362-9aa9-62f931766870",
   "metadata": {},
   "outputs": [],
   "source": [
    "# input variables\n",
    "r = 0.0541     # interest rate at time t\n",
    "s = 5       # Maturity\n",
    "t = 0       # now\n",
    "T = 0       # expiry\n",
    "deltat = .1 # deltat for derivative\n",
    "vol = .23   # volatility\n",
    "optionType = \"C\""
   ]
  },
  {
   "cell_type": "code",
   "execution_count": 30,
   "id": "d91aebe9-5d29-4c23-89e9-f55d182f2df5",
   "metadata": {
    "tags": []
   },
   "outputs": [
    {
     "data": {
      "text/plain": [
       "0.3938638451865482"
      ]
     },
     "execution_count": 30,
     "metadata": {},
     "output_type": "execute_result"
    }
   ],
   "source": [
    "# ZCB pricing using Ho and Lee\n",
    "def ZeroCouponBondPricing(r, s, T, deltat, vol):\n",
    "    \"\"\"\n",
    "    # relate future bond prices at time T >= t to the current term structure and the level of the short rate at time T\n",
    "    Inputs\n",
    "    r =      # interest rate at time t\n",
    "    s =      # Maturity\n",
    "    T =      # expiry\n",
    "    deltat = # deltat for derivative\n",
    "    vol =    # volatility\n",
    "\n",
    "    Output\n",
    "    # Price of bond at time T with a maturity of s\n",
    "    \"\"\"\n",
    "    # market prices of T year and s year discount bonds\n",
    "    pts = np.exp(-r*s)\n",
    "    ptT = np.exp(-r*T)\n",
    "    \n",
    "    B = s - T # B from closed form solution formula\n",
    "    slope = (np.log(np.exp(-r*(T+deltat))) - np.log(np.exp(-r*(T-deltat))))/(2*deltat) # approximate slope\n",
    "    lnA = np.log(pts/ptT) - B*(slope) - .5*(vol**2)*(B**2) # lnA(T,s) \n",
    "    \n",
    "    pTs = (np.exp(lnA))*np.exp(-B*r) # Output\n",
    "\n",
    "    return(pTs)\n",
    "\n",
    "ZeroCouponBondPricing(r, s, T, deltat, vol)"
   ]
  },
  {
   "cell_type": "code",
   "execution_count": 22,
   "id": "45607ab9-5ff0-433d-90bd-741033672494",
   "metadata": {
    "tags": []
   },
   "outputs": [
    {
     "data": {
      "text/plain": [
       "0.012427033940625165"
      ]
     },
     "execution_count": 22,
     "metadata": {},
     "output_type": "execute_result"
    }
   ],
   "source": [
    "# european options on ZCB pricing using Ho and Lee\n",
    "def optionsPricing(r, s, t, T, vol, optionType):\n",
    "    \"\"\"\n",
    "    # Pricing of European call and Put Options on Pure Discount Bonds\n",
    "    Inputs\n",
    "    r =          # interest rate at time t\n",
    "    s =          # Maturity\n",
    "    t =          # now\n",
    "    T =          # expiry\n",
    "    vol =        # volatility\n",
    "    OptionType = # call or put\n",
    "    \n",
    "    Output\n",
    "    # Price of European Call or Put on Pure Discount Bonds\n",
    "    \"\"\"\n",
    "    \n",
    "    # Compute constants\n",
    "    pts = np.exp(-r*s) # price of ZCB with a maturity at s at time t\n",
    "    ptT = np.exp(-r*T) # price of ZCB with a maturity of T at time t\n",
    "    K = pts/ptT\n",
    "    sigmap = vol*(s-T)*np.sqrt(T-t)\n",
    "    d1 = (np.log(pts/(K*ptT)) / sigmap) + (sigmap/2)\n",
    "    d2 = d1 - sigmap\n",
    "\n",
    "    if optionType == \"C\":\n",
    "        optionPrice = (pts*norm.cdf(d1)) - (K*ptT*norm.cdf(d2))\n",
    "    elif optionType == \"P\":\n",
    "        optionPrice = (K*ptT*norm.cdf(-d2)) - (pts*norm.cdf(-d1))\n",
    "    else:\n",
    "        print(\"This function only prices European calls and puts\")\n",
    "              \n",
    "    return(optionPrice)\n",
    "\n",
    "optionsPricing(r, s, t, T, vol, optionType)"
   ]
  },
  {
   "cell_type": "code",
   "execution_count": 23,
   "id": "ab6786b0-74ee-475e-a315-fe87bf661a4b",
   "metadata": {
    "tags": []
   },
   "outputs": [
    {
     "name": "stdout",
     "output_type": "stream",
     "text": [
      "   Caplet Maturity  Cap. Vol\n",
      "0       1995-03-21     15.25\n",
      "1       1995-06-21     17.25\n",
      "2       1995-09-21     17.25\n",
      "3       1995-12-21     17.50\n",
      "4       1996-03-21     18.00\n",
      "5       1996-06-21     18.00\n",
      "6       1996-09-21     18.00\n",
      "7       1996-12-21     18.00\n",
      "8       1997-03-21     17.75\n",
      "9       1997-06-21     17.50\n",
      "10      1997-09-21     17.50\n",
      "11      1997-12-21     17.50\n",
      "12      1998-03-21     17.25\n",
      "13      1998-06-21     17.25\n"
     ]
    },
    {
     "name": "stderr",
     "output_type": "stream",
     "text": [
      "/tmp/ipykernel_92/723488182.py:11: FutureWarning: In a future version, `df.iloc[:, i] = newvals` will attempt to set the values inplace instead of always setting a new array. To retain the old behavior, use either `df[df.columns[i]] = newvals` or, if columns are non-unique, `df.isetitem(i, newvals)`\n",
      "  capletData.iloc[:, 0] = pd.to_datetime(capletData.iloc[:, 0], format='%d-%b-%y')\n"
     ]
    }
   ],
   "source": [
    "# Read in caplet data\n",
    "capletData = pd.read_csv(\"CapletDataFor21Jan1995.csv\")\n",
    "\n",
    "# Additional Caplet Information\n",
    "t = '21-Jan-95'\n",
    "capRate = 0.07\n",
    "Principal = 1\n",
    "faceValueBond = 1.0175\n",
    "\n",
    "# convert dates to do time calculations\n",
    "capletData.iloc[:, 0] = pd.to_datetime(capletData.iloc[:, 0], format='%d-%b-%y')\n",
    "\n",
    "\n",
    "\n",
    "\n",
    "\n",
    "\n",
    "\n",
    "# Print the DataFrame to check the result\n",
    "print(capletData)\n"
   ]
  },
  {
   "cell_type": "code",
   "execution_count": 24,
   "id": "2c2fec53-3b72-48ae-89db-eb40f5fc03ac",
   "metadata": {
    "tags": []
   },
   "outputs": [
    {
     "name": "stdout",
     "output_type": "stream",
     "text": [
      "59 days, 0:00:00\n"
     ]
    }
   ],
   "source": [
    "from datetime import datetime\n",
    "\n",
    "sigma = 0.1525\n",
    "tstring = '1995-01-21'\n",
    "Tstring = '1995-03-21'\n",
    "\n",
    "# Use \"%Y-%m-%d\" for a four-digit year\n",
    "t = datetime.strptime(tstring, \"%Y-%m-%d\")\n",
    "T = datetime.strptime(Tstring, \"%Y-%m-%d\")\n",
    "\n",
    "tk = (T - t)\n",
    "print(tk)\n"
   ]
  },
  {
   "cell_type": "code",
   "execution_count": 27,
   "id": "6f300c3e-d158-4340-98e4-a31d002a1185",
   "metadata": {
    "tags": []
   },
   "outputs": [
    {
     "name": "stdout",
     "output_type": "stream",
     "text": [
      "0.06407735290219596\n",
      "0.0001509561677766183\n"
     ]
    }
   ],
   "source": [
    "from datetime import datetime\n",
    "# calculating inputs\n",
    "\n",
    "# I AM NOT GETTING THE RIGHT NUMBERS BUT I THINK THAT IS BECAUSE THEY ARE ROUNDING\n",
    "# IN THE BOOK. IDK IF I SHOULD ROUND OR NOT\n",
    "\n",
    "# sigma\n",
    "# r\n",
    "# t\n",
    "# T\n",
    "# s\n",
    "# P(0,T)\n",
    "# P(0,s)\n",
    "# R(0,T)\n",
    "\n",
    "sigma = 0.1525\n",
    "r = .07   \n",
    "tString = '1995-01-21'\n",
    "TString = '1995-03-21'\n",
    "sString = '1995-06-21'\n",
    "\n",
    "# convert dates to datetimes for calculations\n",
    "t = datetime.strptime(tString, \"%Y-%m-%d\")\n",
    "T = datetime.strptime(TString, \"%Y-%m-%d\")\n",
    "s = datetime.strptime(sString, \"%Y-%m-%d\")\n",
    "\n",
    "# calculate tk\n",
    "T = T - t\n",
    "T = T.days / 365\n",
    "T = 0.16 # need to delete\n",
    "\n",
    "# calculate tkPlus1\n",
    "s = s - t\n",
    "s = s.days / 365\n",
    "s = .41 # need to delete\n",
    "\n",
    "# calculate P(0,T), P(0,s), Spot rate\n",
    "# NEED TO FIGURE OUT CORRECT BOND PRICING\n",
    "Price_ZCB_T = 0.9898 #np.exp(-r*T)\n",
    "Price_ZCB_s = 0.9733 #np.exp(-r*s)\n",
    "spotRate = -(1/(T))*np.log(Price_ZCB_T)\n",
    "\n",
    "print(spotRate)\n",
    "\n",
    "# underlying variable in black model applied to a cplaet is the forward rate applicable to the caplet\n",
    "forwardRate_t_T_s = 0.0671 # (-1/(s-T))*np.log(Price_ZCB_s/Price_ZCB_T)\n",
    "\n",
    "# apply blacks formula with K = 0.07 (K = capRate)\n",
    "# calculate d1, d2\n",
    "d1 = -0.6513 # (np.log(forwardRate_t_T_s/capRate) + ((sigma**2)/2)*T) / (sigma*np.sqrt(T))\n",
    "d2 = -0.7126 # d1 - (sigma*np.sqrt(T))\n",
    "\n",
    "capletValue = Price_ZCB_T * ((forwardRate_t_T_s*norm.cdf(d1)) - capRate*norm.cdf(d2)) * (s-T)*Principal\n",
    "\n",
    "print(capletValue)"
   ]
  },
  {
   "cell_type": "code",
   "execution_count": null,
   "id": "dd215c51-f762-44fa-9999-97ae3ca22ba4",
   "metadata": {},
   "outputs": [],
   "source": []
  }
 ],
 "metadata": {
  "kernelspec": {
   "display_name": "Python 3 (ipykernel)",
   "language": "python",
   "name": "python3"
  },
  "language_info": {
   "codemirror_mode": {
    "name": "ipython",
    "version": 3
   },
   "file_extension": ".py",
   "mimetype": "text/x-python",
   "name": "python",
   "nbconvert_exporter": "python",
   "pygments_lexer": "ipython3",
   "version": "3.11.4"
  }
 },
 "nbformat": 4,
 "nbformat_minor": 5
}

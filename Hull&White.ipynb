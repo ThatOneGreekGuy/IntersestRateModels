{
 "cells": [
  {
   "cell_type": "markdown",
   "id": "68ef0416-fd62-468b-8551-00c9a3c4fe22",
   "metadata": {},
   "source": [
    "# Hull and White"
   ]
  },
  {
   "cell_type": "code",
   "execution_count": 25,
   "id": "ac98015c-d15a-4e0b-b268-43bf50df48e4",
   "metadata": {},
   "outputs": [],
   "source": [
    "import numpy as np\n",
    "import pandas as pd\n",
    "from math import ceil"
   ]
  },
  {
   "cell_type": "code",
   "execution_count": 26,
   "id": "02c55700-d9de-4f34-9d11-8740291d0652",
   "metadata": {
    "tags": []
   },
   "outputs": [],
   "source": [
    "r = 0.0541\n",
    "a = -.562\n",
    "s = 1\n",
    "t = 0\n",
    "T = 0\n",
    "vol = .23\n",
    "deltat = .1\n",
    "optionType = \"C\""
   ]
  },
  {
   "cell_type": "code",
   "execution_count": 27,
   "id": "33a950f5-ba12-441e-bd3f-3eb31f933ee0",
   "metadata": {
    "tags": []
   },
   "outputs": [
    {
     "data": {
      "text/plain": [
       "0.9473373680281515"
      ]
     },
     "execution_count": 27,
     "metadata": {},
     "output_type": "execute_result"
    }
   ],
   "source": [
    "def futureDiscountFunction(r, a, s, t, T, vol, deltat):\n",
    "    \"\"\"\n",
    "    # Hull & White closed form solution\n",
    "    Inputs\n",
    "    r =      # interest rate at time t\n",
    "    s =      # Maturity\n",
    "    a =      # reversion parameter\n",
    "    T =      # expiry\n",
    "    deltat = # deltat for derivative\n",
    "    vol =    # volatility\n",
    "    \n",
    "    Output\n",
    "    # Price of zerocoupon bond at time T with maturity s\n",
    "    \"\"\"\n",
    "    \n",
    "    # market prices of T year and s year discount bonds\n",
    "    ptT = np.exp(-r*T)\n",
    "    pts = np.exp(-r*s)\n",
    "\n",
    "    B = (1/a)*(1-np.exp(-a*(s-T)))\n",
    "    slope = (np.log(np.exp(-r*(T+deltat))) - np.log(np.exp(-r*(T-deltat))))/(2*deltat)\n",
    "    lnA = (np.log(pts/ptT)) - (B*slope) - ((1/(4*(a**3)))*(vol**2)*((np.exp(-a*(s-t))-np.exp(-a*(T-t)))**2)*(np.exp(2*a*(T-t))-1))\n",
    "\n",
    "    pTs = np.exp(lnA)*(np.exp(-B*r))\n",
    "\n",
    "    return(pTs)\n",
    "futureDiscountFunction(r, a, s, t, T, vol, deltat)"
   ]
  },
  {
   "cell_type": "markdown",
   "id": "0f3d9384-e4d6-4a57-a0ea-81ee66b5b32f",
   "metadata": {},
   "source": [
    "### Trinomial Tree Construction for Hull & White"
   ]
  },
  {
   "cell_type": "code",
   "execution_count": 4,
   "id": "7c4a572d-7bd7-4c55-a42d-16ecfec659c8",
   "metadata": {
    "tags": []
   },
   "outputs": [
    {
     "name": "stdout",
     "output_type": "stream",
     "text": [
      "r [[0.05       0.         0.         0.         0.        ]\n",
      " [0.02575129 0.05       0.07424871 0.         0.        ]\n",
      " [0.00150258 0.02575129 0.05       0.07424871 0.09849742]]\n",
      "Q [[1.         0.         0.         0.         0.        ]\n",
      " [0.04295587 0.46919294 0.43908062 0.         0.        ]\n",
      " [0.08223859 0.20427954 0.21559341 0.24225132 0.17352428]]\n",
      "Mu [[0.010098   0.         0.         0.         0.        ]\n",
      " [0.01369161 0.01126674 0.00884187 0.         0.        ]\n",
      " [0.05983915 0.05741428 0.05498941 0.05256454 0.05013967]]\n",
      "Pup [[0.46159276 0.         0.         0.         0.        ]\n",
      " [0.47912276 0.04229209 0.41546142 0.         0.        ]\n",
      " [0.0421875  0.41814014 1.60409278 3.60004542 6.40599805]]\n",
      "Pmid [[ 0.49324897  0.          0.          0.          0.        ]\n",
      " [-1.39361294  0.3800484   0.53370974  0.          0.        ]\n",
      " [ 0.38335016  0.53144488 -0.9404604  -4.03236568 -8.74427096]]\n",
      "Pdown [[0.04515826 0.         0.         0.         0.        ]\n",
      " [1.91449018 0.57765951 0.05082883 0.         0.        ]\n",
      " [0.57446235 0.05041498 0.33636762 1.43232026 3.3382729 ]]\n"
     ]
    }
   ],
   "source": [
    "# full procedure to construct the trees\n",
    "# assume i > 0 and and that theta((i-1)dt), Qi-1,j, Mui-1,j, Pi-1,j, Ri-1,j, di-1,j\n",
    "# have all been found for all j at time step i-1(r0,0 = R(1), Q0,0 = 1)\n",
    "\n",
    "# Step 1 initialize parameters\n",
    "alpha = 0.1\n",
    "sigma = 0.014\n",
    "N = 2\n",
    "T = 2\n",
    "\n",
    "#tmp\n",
    "K = 1\n",
    "\n",
    "# step 2 pre-compute constants\n",
    "dt = T/N\n",
    "dr = sigma*np.sqrt(3*dt)\n",
    "\n",
    "# step 3 initialize yield curve\n",
    "initial_yield_curve = [0.05, 0.055, 0.06, 0.0625, 0.065]\n",
    "R = initial_yield_curve\n",
    "P = [0]*(N+1)\n",
    "\n",
    "for i in range(N + 1):\n",
    "    R[i] = initial_yield_curve[i]\n",
    "    P[i] = np.exp(-R[i] * i * dt)\n",
    "\n",
    "# step 3.1 define arrays for node value storage: rows = 2*N + 1, Columns = N + 1\n",
    "r = np.zeros((N+1, 2*N + 1))\n",
    "d = np.zeros((N+1, 2*N + 1))   \n",
    "Q = np.zeros((N+1, 2*N + 1))\n",
    "Theta = np.zeros(N+1) # one theta value per i\n",
    "Mu = np.zeros((N+1, 2*N + 1))\n",
    "Eta = np.zeros((N+1, 2*N + 1))\n",
    "Pup = np.zeros((N+1, 2*N + 1))\n",
    "Pmid = np.zeros((N+1, 2*N + 1))   \n",
    "Pdown = np.zeros((N+1, 2*N + 1))\n",
    "\n",
    "# step 4 Initialize first node\n",
    "r[0][0] = R[0]\n",
    "Q[0][0] = 1\n",
    "d[0][0] = np.exp(-r[0][0] * dt)\n",
    "Theta[0] = ((2*R[1])/dt) + (((sigma**2)*dt) / 2) + (((alpha*r[0][0]*(dt**2)) - (2*r[0][0]*dt))/dt**2)\n",
    "Mu[0][0] = (Theta[0]-(alpha*r[0][0]))*dt\n",
    "Eta[0][0] = Mu[0,0] + (1-K)*dr\n",
    "Pup[0][0] = (((((sigma**2)*dt)+(Eta[0][0]**2))/(2*(dr**2))) + (Eta[0][0]/(2*dr)))\n",
    "Pmid[0][0] = 1- ((((sigma**2)*dt)+(Eta[0][0]**2))/((dr**2)))\n",
    "Pdown[0][0] = 1 - Pup[0][0] - Pmid[0][0]\n",
    "\n",
    "# step 4 Evolve tree for the short rate\n",
    "for i in range(N+1):\n",
    "    \n",
    "    low_node = -i\n",
    "    top_node = i\n",
    "    Q1 = 0\n",
    "    \n",
    "    if i > 0:\n",
    "        # evolving r and d\n",
    "        for j in range(low_node, (top_node + 1)):\n",
    "            ji = j + i\n",
    "\n",
    "            r[i][ji] = r[0][0] + (j * dr)\n",
    "            d[i][ji] = np.exp(-r[i][j] * dt)\n",
    "\n",
    "            # updating pure security prices\n",
    "            if low_node < j < top_node:\n",
    "                Q[i][ji-1] += Q[i-1][ji-1]*Pdown[i-1][ji-1]*d[i-1][ji-1]\n",
    "                Q[i][ji] += Q[i-1][ji-1]*Pmid[i-1][ji-1]*d[i-1][ji-1]\n",
    "                Q[i][ji+1] += Q[i-1][ji-1]*Pup[i-1][ji-1]*d[i-1][ji-1]\n",
    "        \n",
    "        # Theta calculation\n",
    "        for j in range(low_node, top_node + 1):\n",
    "            ji = j + i\n",
    "            Q1 = Q1 + Q[i][ji] * np.exp((-2*r[i][ji]*dt)+(alpha*r[i][ji]*dt*dt))\n",
    "            \n",
    "        \n",
    "        Theta[i] = ((1/dt)*(i+2)*R[i+1]) + (((sigma**2)*dt)/2) + ((1/(dt*dt))*np.log(Q1))\n",
    "        \n",
    "        # calculate drift and decide branch process\n",
    "        for j in range(low_node, top_node + 1):\n",
    "            ji = j + i\n",
    "            Mu[i][ji] = (Theta[i] - alpha*r[i][ji])*dt\n",
    "\n",
    "            # decide branch process {Determines K}\n",
    "        \n",
    "            # calculate probabiliites\n",
    "            Eta[i][ji] = Mu[i][ji] + (j-K)*dr\n",
    "            Pup[i][ji] = (((((sigma**2)*dt)+(Eta[i][ji]**2))/(2*(dr**2))) + (Eta[i][ji]/(2*dr)))\n",
    "            Pmid[i][ji] = 1- ((((sigma**2)*dt)+(Eta[i][ji]**2))/((dr**2)))\n",
    "            Pdown[i][ji] = 1 - Pup[i][ji] - Pmid[i][ji]\n",
    "            \n",
    "print(\"r\", r)\n",
    "print(\"Q\", Q)\n",
    "print(\"Mu\", Mu)\n",
    "print(\"Pup\", Pup)\n",
    "print(\"Pmid\", Pmid)\n",
    "print(\"Pdown\", Pdown)"
   ]
  }
 ],
 "metadata": {
  "kernelspec": {
   "display_name": "Python 3 (ipykernel)",
   "language": "python",
   "name": "python3"
  },
  "language_info": {
   "codemirror_mode": {
    "name": "ipython",
    "version": 3
   },
   "file_extension": ".py",
   "mimetype": "text/x-python",
   "name": "python",
   "nbconvert_exporter": "python",
   "pygments_lexer": "ipython3",
   "version": "3.11.4"
  }
 },
 "nbformat": 4,
 "nbformat_minor": 5
}
